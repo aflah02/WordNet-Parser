{
 "cells": [
  {
   "cell_type": "code",
   "execution_count": 10,
   "id": "6c22fa73",
   "metadata": {},
   "outputs": [],
   "source": [
    "import pandas as pd\n",
    "from parsers.indexParser import *\n",
    "from parsers.dataParser import *\n",
    "from parsers.senseIndexParser import *"
   ]
  },
  {
   "cell_type": "code",
   "execution_count": 11,
   "id": "e0247f2e",
   "metadata": {},
   "outputs": [],
   "source": [
    "fileExtensions = ['verb', 'adj', 'noun', 'adv']"
   ]
  },
  {
   "cell_type": "code",
   "execution_count": 12,
   "id": "7ff8af47",
   "metadata": {},
   "outputs": [],
   "source": [
    "for extension in fileExtensions:\n",
    "    indexdf = createIndexDF(f'dict/index.{extension}')\n",
    "    if (extension == 'verb'):\n",
    "        datadf = createDataDF(f'dict/data.{extension}', True)\n",
    "    else:\n",
    "        datadf = createDataDF(f'dict/data.{extension}')\n",
    "    indexdf.to_csv(f'ParsedCSVs/index_{extension}.csv')\n",
    "    datadf.to_csv(f'ParsedCSVs/data_{extension}.csv')"
   ]
  },
  {
   "cell_type": "code",
   "execution_count": 14,
   "id": "5d0dbcbe",
   "metadata": {},
   "outputs": [],
   "source": [
    "senseindexdf = createSenseIndexDF('dict/index.sense')\n",
    "senseindexdf.to_csv('ParsedCSVs/senseIndex.csv')"
   ]
  },
  {
   "cell_type": "code",
   "execution_count": null,
   "id": "bdc1d217",
   "metadata": {},
   "outputs": [],
   "source": []
  }
 ],
 "metadata": {
  "kernelspec": {
   "display_name": "Python 3",
   "language": "python",
   "name": "python3"
  },
  "language_info": {
   "codemirror_mode": {
    "name": "ipython",
    "version": 3
   },
   "file_extension": ".py",
   "mimetype": "text/x-python",
   "name": "python",
   "nbconvert_exporter": "python",
   "pygments_lexer": "ipython3",
   "version": "3.7.11"
  }
 },
 "nbformat": 4,
 "nbformat_minor": 5
}
